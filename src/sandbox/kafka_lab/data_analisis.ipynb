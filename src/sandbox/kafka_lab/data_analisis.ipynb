{
 "cells": [
  {
   "cell_type": "code",
   "execution_count": 40,
   "metadata": {},
   "outputs": [],
   "source": [
    "import json\n",
    "from datetime import datetime"
   ]
  },
  {
   "cell_type": "code",
   "execution_count": 285,
   "metadata": {},
   "outputs": [],
   "source": [
    "file_path: str = r'/Users/gonzo/Desktop/RailScope/national_rail_project/src/sandbox/stomp/rtppm/rtppm_data.json'"
   ]
  },
  {
   "cell_type": "code",
   "execution_count": 286,
   "metadata": {},
   "outputs": [],
   "source": [
    "with open(file_path) as f:\n",
    "    data = json.load(f)"
   ]
  },
  {
   "cell_type": "code",
   "execution_count": 48,
   "metadata": {},
   "outputs": [],
   "source": [
    "timestamp: int = int(data['RTPPMDataMsgV1']['timestamp'])"
   ]
  },
  {
   "cell_type": "markdown",
   "metadata": {},
   "source": [
    "## National performance\n",
    "\n",
    "- Total:\n",
    "The total number of trains considered in this performance report.\n",
    "\n",
    "- OnTime:\n",
    "The number of trains that arrived on time into their destinations.\n",
    "\n",
    "- Late:\n",
    "The number of trains that arrived late to their destinations.\n",
    "\n",
    "- CancelVeryLate:\n",
    "The number of trains that were cancelled or arrived very late.\n",
    "\n",
    "- PPM: <br>\n",
    "    The Public Performance Measure (PPM) is a measure of train punctuality that combines OnTime and Late trains.<br>\n",
    "    This dictionary contains the following keys:<br>\n",
    "    - text: The PPM percentage performance in string format.\n",
    "    - rag: The Rolling PPM performance category, one of the following (G, A, R, W)\n",
    "    - ragDisplayFlag: A flag to indicate if the performance category should be displayed or not.\n",
    "<br>\n",
    "<br>\n",
    "- RollingPPM: <br>\n",
    "    The Rolling Public Performance Measure (Rolling PPM) is a moving average of PPM over a certain period of time. <br>\n",
    "    This dictionary contains the following keys:\n",
    "    - text: The Rolling PPM percentage performance in string format.\n",
    "    - rag: The Rolling PPM performance category, one of the following (G, A, R, W)\n",
    "    - trendInd: A trend indicator, one of the following (+, = , -)\n",
    "<br>\n",
    "\n",
    "| rag | Performance category             | trendInd | Trend direction         |\n",
    "| --- | ---                              | ---      | ---                     |\n",
    "| G   | Good performance                 | `+`      | Rising trend            |\n",
    "| A   | Medium performance               | `=`      | No change/flat trend    |\n",
    "| R   | Bad performance                  | `-`      | Falling trend           |\n",
    "| W   | Unknown                          | N/A      | N/A                     |\n"
   ]
  },
  {
   "cell_type": "code",
   "execution_count": 54,
   "metadata": {},
   "outputs": [],
   "source": [
    "def flatten_national_page(nested_dict: dict, parent_key='', sep='_') -> dict:\n",
    "    \"\"\" Recursively flattens a nested dictionary \n",
    "    with the following structure:\n",
    "    \n",
    "     example: dict =    \"NationalPPM\": {\n",
    "                            \"Total\": \"16652\",\n",
    "                            \"OnTime\": \"15235\",\n",
    "                            \"Late\": \"1417\",\n",
    "                            \"CancelVeryLate\": \"499\",\n",
    "                            \"PPM\": {\n",
    "                                \"text\": \"91\",\n",
    "                                \"rag\": \"A\",\n",
    "                                \"ragDisplayFlag\": \"Y\"\n",
    "                            },\n",
    "                            \"RollingPPM\": {\n",
    "                                \"text\": \"85\",\n",
    "                                \"rag\": \"R\",\n",
    "                                \"trendInd\": \"-\"\n",
    "                            }\n",
    "                        },\n",
    "    \"\"\"\n",
    "    items: list = []\n",
    "    for key, value in nested_dict.items():\n",
    "        new_key: str = f'{parent_key}{sep}{key}' if parent_key else key\n",
    "        if isinstance(value, dict):\n",
    "            items.extend(flatten_national_page(value, new_key, sep=sep).items())\n",
    "        else:\n",
    "            items.append((new_key, value))\n",
    "    return dict(items)"
   ]
  },
  {
   "cell_type": "code",
   "execution_count": 55,
   "metadata": {},
   "outputs": [
    {
     "name": "stdout",
     "output_type": "stream",
     "text": [
      "{'Total': '18661', 'OnTime': '17010', 'Late': '1651', 'CancelVeryLate': '566', 'PPM_text': '91', 'PPM_rag': 'A', 'PPM_ragDisplayFlag': 'Y', 'RollingPPM_text': '88', 'RollingPPM_rag': 'R', 'RollingPPM_trendInd': '-'}\n"
     ]
    }
   ],
   "source": [
    "national_performance = data['RTPPMDataMsgV1']['RTPPMData']['NationalPage']['NationalPPM']\n",
    "flatten_national_performance = flatten_national_page(national_performance)\n",
    "print(flatten_national_performance)"
   ]
  },
  {
   "cell_type": "markdown",
   "metadata": {},
   "source": [
    "## National sectors performance\n",
    "<br>\n",
    "A dictionary with keys representing different sectors. Each sector is a dictionary containing the following keys:\n",
    "<br>\n",
    "<br>\n",
    "\n",
    "- sectorName: A string representing the name of the sector. <br>\n",
    "\n",
    "- Total: The total number of trains in the sector <br>\n",
    "\n",
    "- OnTime: The number of trains that arrived on time to their destinations. <br> \n",
    "\n",
    "- Late: The number of trains that arrived late to their destinations. <br> \n",
    "\n",
    "- CancelVeryLate: The number of trains that were cancelled or arrived very late. <br> \n",
    "\n",
    "- PPM_text: The Public Performance Measure (PPM) percentage performance in string format. <br> \n",
    "\n",
    "- PPM_rag: The PPM performance category, one of G (Good performance), A (Medium performance), R (Bad performance), or W (Unknown). <br> \n",
    "\n",
    "- RollingPPM_text: The Rolling Public Performance Measure (Rolling PPM) percentage performance in string format. <br> \n",
    "\n",
    "- RollingPPM_rag: The Rolling PPM performance category, one of the following (G, A, R, W) <br> \n",
    "\n",
    "- RollingPPM_trendInd: A trend indicator, one of the following (+, = , -) <br>\n",
    "\n",
    "| rag | Performance category             | trendInd | Trend direction         |\n",
    "| --- | ---                              | ---      | ---                     |\n",
    "| G   | Good performance                 | `+`      | Rising trend            |\n",
    "| A   | Medium performance               | `=`      | No change/flat trend    |\n",
    "| R   | Bad performance                  | `-`      | Falling trend           |\n",
    "| W   | Unknown                          | N/A      | N/A                     |\n"
   ]
  },
  {
   "cell_type": "code",
   "execution_count": 56,
   "metadata": {},
   "outputs": [],
   "source": [
    "def flatten_national_sector(nested_dict: list, parent_key='', sep='_') -> dict:\n",
    "    \"\"\"Iterates over a list of nested dictionaries and flattens them into a dict of dicts \n",
    "    \n",
    "    example: dict =  \"Sector\": [\n",
    "                            {\n",
    "                                \"SectorPPM\": {\n",
    "                                    \"Total\": \"8880\",\n",
    "                                    \"OnTime\": \"8202\",\n",
    "                                    \"Late\": \"678\",\n",
    "                                    \"CancelVeryLate\": \"228\",\n",
    "                                    \"PPM\": {\n",
    "                                        \"text\": \"92\",\n",
    "                                        \"rag\": \"G\"\n",
    "                                    },\n",
    "                                    \"RollingPPM\": {\n",
    "                                        \"text\": \"84\",\n",
    "                                        \"rag\": \"R\",\n",
    "                                        \"trendInd\": \"-\"\n",
    "                                    }\n",
    "                                },\n",
    "                                \"sectorCode\": \"LSE\",\n",
    "                                \"sectorDesc\": \"London and South East\"\n",
    "                            }]\n",
    "    \"\"\"\n",
    "    new_data: dict = {}\n",
    "    # Traverse over the dicts inside the list\n",
    "    for sector in nested_dict:\n",
    "        # Create dict's from sector code and insert name\n",
    "        new_data[sector[\"sectorCode\"]] = {\"sectorName\": sector[\"sectorDesc\"]} \n",
    "        # Traverse over the nested dict's inside SectorPPM\n",
    "        for key, value in sector[\"SectorPPM\"].items(): \n",
    "            # Explode the nested dicts and add their keys as part of the new key names\n",
    "            if key == \"PPM\":\n",
    "                new_data[sector[\"sectorCode\"]][\"PPM_text\"] = value[\"text\"]\n",
    "                new_data[sector[\"sectorCode\"]][\"PPM_rag\"] = value[\"rag\"]\n",
    "            elif key == \"RollingPPM\":\n",
    "                new_data[sector[\"sectorCode\"]][\"RollingPPM_text\"] = value[\"text\"]\n",
    "                new_data[sector[\"sectorCode\"]][\"RollingPPM_rag\"] = value[\"rag\"]\n",
    "                new_data[sector[\"sectorCode\"]][\"RollingPPM_trendInd\"] = value[\"trendInd\"]\n",
    "            else:\n",
    "                # Insert data that isn't nested\n",
    "                new_data[sector[\"sectorCode\"]][key] = value\n",
    "    return new_data"
   ]
  },
  {
   "cell_type": "code",
   "execution_count": 69,
   "metadata": {},
   "outputs": [
    {
     "name": "stdout",
     "output_type": "stream",
     "text": [
      "{'LSE': {'sectorName': 'London and South East', 'Total': '9973', 'OnTime': '9170', 'Late': '803', 'CancelVeryLate': '270', 'PPM_text': '91', 'PPM_rag': 'A', 'RollingPPM_text': '88', 'RollingPPM_rag': 'R', 'RollingPPM_trendInd': '-'}, 'LD': {'sectorName': 'Long Distance', 'Total': '1331', 'OnTime': '1194', 'Late': '137', 'CancelVeryLate': '70', 'PPM_text': '89', 'PPM_rag': 'A', 'RollingPPM_text': '90', 'RollingPPM_rag': 'A', 'RollingPPM_trendInd': '+'}, 'REG': {'sectorName': 'Regional', 'Total': '5393', 'OnTime': '4796', 'Late': '597', 'CancelVeryLate': '198', 'PPM_text': '88', 'PPM_rag': 'R', 'RollingPPM_text': '87', 'RollingPPM_rag': 'R', 'RollingPPM_trendInd': '-'}, 'SCO': {'sectorName': 'Scotland', 'Total': '1964', 'OnTime': '1850', 'Late': '114', 'CancelVeryLate': '28', 'PPM_text': '94', 'PPM_rag': 'G', 'RollingPPM_text': '86', 'RollingPPM_rag': 'R', 'RollingPPM_trendInd': '-'}}\n"
     ]
    }
   ],
   "source": [
    "national_sectors_page = data['RTPPMDataMsgV1']['RTPPMData']['NationalPage']['Sector']\n",
    "flatten_national_sectors_performance = flatten_national_sector(national_sectors_page)\n",
    "print(flatten_national_sectors_performance)"
   ]
  },
  {
   "attachments": {},
   "cell_type": "markdown",
   "metadata": {},
   "source": [
    "## National Operator performance\n",
    "\n",
    "- Total: The total number of trains in the sector. <br>\n",
    "- PPM: A dictionary with keys 'text' and 'rag', representing the Public Performance Measure percentage and performance category, respectively. <br>\n",
    "- RollingPPM: A dictionary with keys 'text', 'rag', 'displayFlag', and 'trendInd', representing the Rolling Public Performance Measure percentage, performance category, display flag, and trend indicator, respectively. <br>\n",
    "- code: A code representing the sector. <br>\n",
    "- name: The name of the sector. <br>\n",
    "- keySymbol: An optional key symbol for the sector. <br>\n",
    "\n",
    "| rag | Performance category             | trendInd | Trend direction         |\n",
    "| --- | ---                              | ---      | ---                     |\n",
    "| G   | Good performance                 | `+`      | Rising trend            |\n",
    "| A   | Medium performance               | `=`      | No change/flat trend    |\n",
    "| R   | Bad performance                  | `-`      | Falling trend           |\n",
    "| W   | Unknown                          | N/A      | N/A                     |"
   ]
  },
  {
   "cell_type": "code",
   "execution_count": 170,
   "metadata": {},
   "outputs": [],
   "source": [
    "def flatten_operators(nested_dict: list) -> dict:\n",
    "    \"\"\"Iterates over a list of nested dictionaries and flattens them into a dict of dicts.\n",
    "    example: dict = \"Operator\": [\n",
    "                        {\n",
    "                            \"Total\": \"6\",\n",
    "                            \"PPM\": {\n",
    "                                \"text\": \"100\",\n",
    "                                \"rag\": \"G\"\n",
    "                            },\n",
    "                            \"RollingPPM\": {\n",
    "                                \"text\": \"-1\",\n",
    "                                \"rag\": \"W\",\n",
    "                                \"displayFlag\": \"Y\"\n",
    "                            },\n",
    "                            \"code\": \"35\",\n",
    "                            \"name\": \"Caledonian Sleeper\",\n",
    "                            \"keySymbol\": \"*\"\n",
    "                        }]\n",
    "    \"\"\"\n",
    "    new_data: dict = {}\n",
    "    for record in nested_dict:\n",
    "        # Create a dictionary to store the flattened record\n",
    "        flat_record = {}\n",
    "        # Add all key-value pairs to flat_record\n",
    "        for key, value in record.items():\n",
    "            # Add PPM_text and PPM_rag keys for PPM dictionary\n",
    "            if key == 'PPM':\n",
    "                flat_record['PPM_text'] = value['text']\n",
    "                flat_record['PPM_rag'] = value['rag']\n",
    "            # Add RollingPPM_text, RollingPPM_rag, and RollingPPM_trendInd keys for RollingPPM dictionary\n",
    "            elif key == 'RollingPPM':\n",
    "                flat_record['RollingPPM_text'] = value['text']\n",
    "                flat_record['RollingPPM_rag'] = value['rag']\n",
    "                flat_record['RollingPPM_trendInd'] = value.get('trendInd')\n",
    "            elif key != 'code' and key != 'keySymbol':\n",
    "                # Add the key-value pair directly to flat_record\n",
    "                flat_record[key] = value\n",
    "        # Add the flattened record to new_data using code as the key\n",
    "        new_data[record['code']] = flat_record\n",
    "\n",
    "    return new_data\n"
   ]
  },
  {
   "cell_type": "code",
   "execution_count": 173,
   "metadata": {},
   "outputs": [
    {
     "name": "stdout",
     "output_type": "stream",
     "text": [
      "{'35': {'Total': '6', 'PPM_text': '100', 'PPM_rag': 'G', 'RollingPPM_text': '-1', 'RollingPPM_rag': 'W', 'RollingPPM_trendInd': None, 'name': 'Caledonian Sleeper'}, '74': {'Total': '310', 'PPM_text': '99', 'PPM_rag': 'G', 'RollingPPM_text': '100', 'RollingPPM_rag': 'G', 'RollingPPM_trendInd': '+', 'name': 'Chiltern'}, '30': {'Total': '1413', 'PPM_text': '97', 'PPM_rag': 'G', 'RollingPPM_text': '97', 'RollingPPM_rag': 'G', 'RollingPPM_trendInd': '=', 'name': 'London Overground'}, '33': {'Total': '593', 'PPM_text': '96', 'PPM_rag': 'G', 'RollingPPM_text': '100', 'RollingPPM_rag': 'G', 'RollingPPM_trendInd': '+', 'name': 'Elizabeth line'}, '79': {'Total': '292', 'PPM_text': '96', 'PPM_rag': 'G', 'RollingPPM_text': '92', 'RollingPPM_rag': 'G', 'RollingPPM_trendInd': '-', 'name': 'c2c'}, '61': {'Total': '147', 'PPM_text': '95', 'PPM_rag': 'G', 'RollingPPM_text': '100', 'RollingPPM_rag': 'G', 'RollingPPM_trendInd': '+', 'name': 'London North Eastern Railway'}, '28': {'Total': '434', 'PPM_text': '94', 'PPM_rag': 'G', 'RollingPPM_text': '94', 'RollingPPM_rag': 'G', 'RollingPPM_trendInd': '=', 'name': 'East Midlands Railway'}, '21': {'Total': '1095', 'PPM_text': '94', 'PPM_rag': 'G', 'RollingPPM_text': '94', 'RollingPPM_rag': 'G', 'RollingPPM_trendInd': '=', 'name': 'Greater Anglia'}, '60': {'Total': '1958', 'PPM_text': '94', 'PPM_rag': 'G', 'RollingPPM_text': '86', 'RollingPPM_rag': 'R', 'RollingPPM_trendInd': '-', 'name': 'ScotRail'}, '84': {'Total': '1419', 'PPM_text': '93', 'PPM_rag': 'G', 'RollingPPM_text': '91', 'RollingPPM_rag': 'A', 'RollingPPM_trendInd': '-', 'name': 'South Western Railway'}, '65': {'Total': '229', 'PPM_text': '92', 'PPM_rag': 'G', 'RollingPPM_text': '89', 'RollingPPM_rag': 'A', 'RollingPPM_trendInd': '-', 'name': 'Avanti West Coast'}, '64': {'Total': '547', 'PPM_text': '92', 'PPM_rag': 'G', 'RollingPPM_text': '93', 'RollingPPM_rag': 'G', 'RollingPPM_trendInd': '+', 'name': 'Merseyrail'}, '80': {'Total': '1490', 'PPM_text': '92', 'PPM_rag': 'G', 'RollingPPM_text': '88', 'RollingPPM_rag': 'R', 'RollingPPM_trendInd': '-', 'name': 'Southeastern'}, '25': {'Total': '1482', 'PPM_text': '90', 'PPM_rag': 'A', 'RollingPPM_text': '90', 'RollingPPM_rag': 'A', 'RollingPPM_trendInd': '=', 'name': 'Great Western Railway'}, '29': {'Total': '1035', 'PPM_text': '90', 'PPM_rag': 'A', 'RollingPPM_text': '87', 'RollingPPM_rag': 'R', 'RollingPPM_trendInd': '-', 'name': 'West Midlands Trains'}, '71': {'Total': '910', 'PPM_text': '88', 'PPM_rag': 'R', 'RollingPPM_text': '87', 'RollingPPM_rag': 'R', 'RollingPPM_trendInd': '-', 'name': 'Transport for Wales'}, '23': {'Total': '2365', 'PPM_text': '87', 'PPM_rag': 'R', 'RollingPPM_text': '88', 'RollingPPM_rag': 'R', 'RollingPPM_trendInd': '+', 'name': 'Northern Trains'}, '20': {'Total': '236', 'PPM_text': '85', 'PPM_rag': 'R', 'RollingPPM_text': '84', 'RollingPPM_rag': 'R', 'RollingPPM_trendInd': '-', 'name': 'TransPennine Express'}, '88': {'Total': '2495', 'PPM_text': '83', 'PPM_rag': 'R', 'RollingPPM_text': '70', 'RollingPPM_rag': 'R', 'RollingPPM_trendInd': '-', 'name': 'Govia Thameslink Railway'}, '27': {'Total': '205', 'PPM_text': '79', 'PPM_rag': 'R', 'RollingPPM_text': '80', 'RollingPPM_rag': 'R', 'RollingPPM_trendInd': '+', 'name': 'CrossCountry'}}\n"
     ]
    }
   ],
   "source": [
    "national_operator = data['RTPPMDataMsgV1']['RTPPMData']['NationalPage']['Operator']\n",
    "flatten_national_operator_performance = flatten_operators(national_operator)\n",
    "print(flatten_national_operator_performance)"
   ]
  },
  {
   "cell_type": "markdown",
   "metadata": {},
   "source": [
    "## OOCPage (Out of Course Page )\n",
    "\n",
    "- Total: The total number of trains in the sector. <br>\n",
    "- PPM: A dictionary with keys 'text' and 'rag', representing the Public Performance Measure percentage and performance category, respectively. <br>\n",
    "- RollingPPM: A dictionary with keys 'text', 'rag', 'displayFlag', and 'trendInd', representing the Rolling Public Performance Measure percentage, performance category, display flag, and trend indicator, respectively. <br>\n",
    "- code: A code representing the sector. <br>\n",
    "- name: The name of the sector. <br>\n",
    "- keySymbol: An optional key symbol for the sector. <br>\n",
    "\n",
    "| rag | Performance category             | trendInd | Trend direction         |\n",
    "| --- | ---                              | ---      | ---                     |\n",
    "| G   | Good performance                 | `+`      | Rising trend            |\n",
    "| A   | Medium performance               | `=`      | No change/flat trend    |\n",
    "| R   | Bad performance                  | `-`      | Falling trend           |\n",
    "| W   | Unknown                          | N/A      | N/A                     |"
   ]
  },
  {
   "cell_type": "code",
   "execution_count": 77,
   "metadata": {},
   "outputs": [],
   "source": [
    "occ_page = data['RTPPMDataMsgV1']['RTPPMData']['OOCPage']['Operator']\n",
    "flatten_occ_page_performance = flatten_operators(occ_page)"
   ]
  },
  {
   "cell_type": "code",
   "execution_count": 78,
   "metadata": {},
   "outputs": [
    {
     "name": "stdout",
     "output_type": "stream",
     "text": [
      "{'86': {'Total': '137', 'PPM_text': '97', 'PPM_rag': 'G', 'RollingPPM_text': '100', 'RollingPPM_rag': 'G', 'RollingPPM_trendInd': '+', 'name': 'Heathrow Express'}, '55': {'Total': '13', 'PPM_text': '92', 'PPM_rag': 'G', 'RollingPPM_text': '100', 'RollingPPM_rag': 'G', 'RollingPPM_trendInd': '+', 'name': 'Hull Trains'}, '45': {'Total': '8', 'PPM_text': '87', 'PPM_rag': 'R', 'RollingPPM_text': '100', 'RollingPPM_rag': 'G', 'RollingPPM_trendInd': '+', 'name': 'Lumo'}, '22': {'Total': '16', 'PPM_text': '81', 'PPM_rag': 'R', 'RollingPPM_text': '-1', 'RollingPPM_rag': 'W', 'RollingPPM_trendInd': None, 'name': 'Grand Central'}}\n"
     ]
    }
   ],
   "source": [
    "print(flatten_occ_page_performance)"
   ]
  },
  {
   "cell_type": "markdown",
   "metadata": {},
   "source": [
    "## FOCPage (Freight Operating Company Page) \n",
    "\n",
    "- Total: The total number of trains in the sector. <br>\n",
    "- PPM: A dictionary with keys 'text' and 'rag', representing the Public Performance Measure percentage and performance category, respectively. <br>\n",
    "- RollingPPM: A dictionary with keys 'text', 'rag', 'displayFlag', and 'trendInd', representing the Rolling Public Performance Measure percentage, performance category, display flag, and trend indicator, respectively. <br>\n",
    "- code: A code representing the sector. <br>\n",
    "- name: The name of the sector. <br>\n",
    "- keySymbol: An optional key symbol for the sector. <br>\n",
    "\n",
    "| rag | Performance category             | trendInd | Trend direction         |\n",
    "| --- | ---                              | ---      | ---                     |\n",
    "| G   | Good performance                 | `+`      | Rising trend            |\n",
    "| A   | Medium performance               | `=`      | No change/flat trend    |\n",
    "| R   | Bad performance                  | `-`      | Falling trend           |\n",
    "| W   | Unknown                          | N/A      | N/A                     |"
   ]
  },
  {
   "cell_type": "code",
   "execution_count": 82,
   "metadata": {},
   "outputs": [],
   "source": [
    "foc_page_national_performance = data['RTPPMDataMsgV1']['RTPPMData']['FOCPage']['NationalPPM']\n",
    "foc_page_national_operator = data['RTPPMDataMsgV1']['RTPPMData']['FOCPage']['Operator']\n",
    "flatten_foc_page_national_performance = flatten_national_page(foc_page_national_performance)\n",
    "flatten_foc_page_national_operator_performance = flatten_operators(foc_page_national_operator)"
   ]
  },
  {
   "cell_type": "code",
   "execution_count": 80,
   "metadata": {},
   "outputs": [
    {
     "name": "stdout",
     "output_type": "stream",
     "text": [
      "{'Total': '406', 'OnTime': '350', 'Late': '56', 'PPM_text': '86', 'PPM_rag': 'A', 'PPM_ragDisplayFlag': 'Y', 'RollingPPM_text': '81', 'RollingPPM_rag': 'A', 'RollingPPM_trendInd': '-'}\n"
     ]
    }
   ],
   "source": [
    "print(flatten_foc_page_national_performance)"
   ]
  },
  {
   "cell_type": "code",
   "execution_count": 83,
   "metadata": {},
   "outputs": [
    {
     "name": "stdout",
     "output_type": "stream",
     "text": [
      "{'42': {'Total': '27', 'PPM_text': '92', 'PPM_rag': 'G', 'RollingPPM_text': '66', 'RollingPPM_rag': 'R', 'RollingPPM_trendInd': '-', 'name': 'Colas Freight'}, '05': {'Total': '150', 'PPM_text': '92', 'PPM_rag': 'G', 'RollingPPM_text': '100', 'RollingPPM_rag': 'G', 'RollingPPM_trendInd': '+', 'name': 'DB Cargo'}, 'FLI': {'Total': '40', 'PPM_text': '90', 'PPM_rag': 'G', 'RollingPPM_text': '87', 'RollingPPM_rag': 'G', 'RollingPPM_trendInd': '-', 'name': 'Freightliner Intermodal'}, '54': {'Total': '92', 'PPM_text': '82', 'PPM_rag': 'A', 'RollingPPM_text': '66', 'RollingPPM_rag': 'R', 'RollingPPM_trendInd': '-', 'name': 'GB Railfreight'}, 'NRM': {'Total': '97', 'PPM_text': '82', 'PPM_rag': 'A', 'RollingPPM_text': '72', 'RollingPPM_rag': 'R', 'RollingPPM_trendInd': '-', 'name': 'Network Rail - Materials '}, 'FHH': {'Total': '77', 'PPM_text': '77', 'PPM_rag': 'R', 'RollingPPM_text': '76', 'RollingPPM_rag': 'R', 'RollingPPM_trendInd': '-', 'name': 'Freightliner Heavy Haul'}, '97': {'Total': '20', 'PPM_text': '70', 'PPM_rag': 'R', 'RollingPPM_text': '66', 'RollingPPM_rag': 'R', 'RollingPPM_trendInd': '-', 'name': 'Direct Rail Services'}}\n"
     ]
    }
   ],
   "source": [
    "print(flatten_foc_page_national_operator_performance)"
   ]
  },
  {
   "cell_type": "markdown",
   "metadata": {},
   "source": [
    "## OperatorPage\n",
    "\n",
    "The OperatorPage provides performance data for individual train operating companies. It contains a list of dictionaries, with each dictionary providing data for a single operator. \n",
    "\n",
    "### Operator\n",
    "\n",
    "The \"Operator\" dictionary provides performance data for a single operator. The fields in this dictionary include:\n",
    "\n",
    "- Total: The total number of trains operated by the operator in the period.\n",
    "- OnTime: The number of trains that arrived on time into their destinations.\n",
    "- Late: The number of trains that arrived late to their destinations.\n",
    "- CancelVeryLate: The number of trains that were cancelled or arrived very late.\n",
    "- PPM: The Public Performance Measure (PPM) percentage performance for the operator.\n",
    "- RollingPPM: The Rolling Public Performance Measure (Rolling PPM) percentage performance for the operator.\n",
    "- code: The unique code assigned to the operator.\n",
    "- name: The name of the operator.\n",
    "\n",
    "The PPM and RollingPPM fields provide information about the punctuality and reliability of the operator's services. The \"rag\" field in both PPM and RollingPPM indicates the performance category, with \"G\" representing Good performance and \"R\" representing Bad performance. The \"displayFlag\" field in RollingPPM indicates whether or not the performance category should be displayed, while the \"trendInd\" field indicates the direction of the trend in RollingPPM performance. \n",
    "\n",
    "### OprToleranceTotal\n",
    "\n",
    "The \"OprToleranceTotal\" dictionary provides information about the tolerance levels set for the operator. The fields in this dictionary include:\n",
    "\n",
    "- Total: The total number of trains considered in the tolerance calculation.\n",
    "- OnTime: The number of trains that were within the tolerance band.\n",
    "- Late: The number of trains that were outside the tolerance band.\n",
    "- CancelVeryLate: The number of trains that were cancelled or arrived very late.\n",
    "- timeband: The tolerance band in minutes.\n",
    "\n",
    "| rag | Performance category             | trendInd | Trend direction         |\n",
    "| --- | ---                              | ---      | ---                     |\n",
    "| G   | Good performance                 | `+`      | Rising trend            |\n",
    "| A   | Medium performance               | `=`      | No change/flat trend    |\n",
    "| R   | Bad performance                  | `-`      | Falling trend           |\n",
    "| W   | Unknown                          | N/A      | N/A                     |"
   ]
  },
  {
   "cell_type": "code",
   "execution_count": 346,
   "metadata": {},
   "outputs": [],
   "source": [
    "def flatten_operators_page(nested_dicts: list) -> dict:\n",
    "    new_data = {}\n",
    "\n",
    "    for operator in nested_dicts:\n",
    "        # Create a new dictionary to hold the flattened data for this operator\n",
    "        flat_dict = {}\n",
    "\n",
    "        # Extract data from the operator dictionary and flatten it\n",
    "        op_data = operator['Operator']\n",
    "        flat_dict['sectorName'] = op_data['name']\n",
    "        flat_dict['total'] = op_data['Total']\n",
    "        flat_dict['onTime'] = op_data['OnTime']\n",
    "        flat_dict['late'] = op_data['Late']\n",
    "        flat_dict['cancelVeryLate'] = op_data['CancelVeryLate']\n",
    "        flat_dict['PPM_text'] = op_data['PPM']['text']\n",
    "        flat_dict['PPM_rag'] = op_data['PPM']['rag']\n",
    "        flat_dict['RollingPPM_text'] = op_data['RollingPPM']['text']\n",
    "        flat_dict['RollingPPM_rag'] = op_data['RollingPPM']['rag']\n",
    "        flat_dict['RollingPPM_trendInd'] = op_data['RollingPPM'].get('trendInd')\n",
    "\n",
    "        # Add the flattened operator data to the new_data dictionary using the operator code as the key\n",
    "        new_data[op_data['code']] = flat_dict\n",
    "\n",
    "    return new_data"
   ]
  },
  {
   "cell_type": "code",
   "execution_count": 347,
   "metadata": {},
   "outputs": [],
   "source": [
    "operator_page = data['RTPPMDataMsgV1']['RTPPMData']['OperatorPage']"
   ]
  },
  {
   "cell_type": "code",
   "execution_count": 348,
   "metadata": {},
   "outputs": [],
   "source": [
    "flatten_operator_page_performance = flatten_operators_page(operator_page)"
   ]
  },
  {
   "cell_type": "code",
   "execution_count": 352,
   "metadata": {},
   "outputs": [
    {
     "name": "stdout",
     "output_type": "stream",
     "text": [
      "('97', {'sectorName': 'Direct Rail Services', 'total': '20', 'onTime': '14', 'late': '6', 'cancelVeryLate': '0', 'PPM_text': '70', 'PPM_rag': 'R', 'RollingPPM_text': '66', 'RollingPPM_rag': 'R', 'RollingPPM_trendInd': '-'})\n",
      "('FHH', {'sectorName': 'Freightliner Heavy Haul', 'total': '77', 'onTime': '60', 'late': '17', 'cancelVeryLate': '0', 'PPM_text': '77', 'PPM_rag': 'R', 'RollingPPM_text': '76', 'RollingPPM_rag': 'R', 'RollingPPM_trendInd': '-'})\n",
      "('27', {'sectorName': 'CrossCountry', 'total': '205', 'onTime': '162', 'late': '43', 'cancelVeryLate': '29', 'PPM_text': '79', 'PPM_rag': 'R', 'RollingPPM_text': '80', 'RollingPPM_rag': 'R', 'RollingPPM_trendInd': '+'})\n",
      "('22', {'sectorName': 'Grand Central', 'total': '16', 'onTime': '13', 'late': '3', 'cancelVeryLate': '2', 'PPM_text': '81', 'PPM_rag': 'R', 'RollingPPM_text': '-1', 'RollingPPM_rag': 'W', 'RollingPPM_trendInd': None})\n",
      "('NRM', {'sectorName': 'Network Rail - Materials ', 'total': '97', 'onTime': '80', 'late': '17', 'cancelVeryLate': '0', 'PPM_text': '82', 'PPM_rag': 'A', 'RollingPPM_text': '72', 'RollingPPM_rag': 'R', 'RollingPPM_trendInd': '-'})\n",
      "('54', {'sectorName': 'GB Railfreight', 'total': '92', 'onTime': '76', 'late': '16', 'cancelVeryLate': '0', 'PPM_text': '82', 'PPM_rag': 'A', 'RollingPPM_text': '66', 'RollingPPM_rag': 'R', 'RollingPPM_trendInd': '-'})\n",
      "('88', {'sectorName': 'Govia Thameslink Railway', 'total': '2495', 'onTime': '2083', 'late': '412', 'cancelVeryLate': '189', 'PPM_text': '83', 'PPM_rag': 'R', 'RollingPPM_text': '70', 'RollingPPM_rag': 'R', 'RollingPPM_trendInd': '-'})\n",
      "('20', {'sectorName': 'TransPennine Express', 'total': '236', 'onTime': '202', 'late': '34', 'cancelVeryLate': '20', 'PPM_text': '85', 'PPM_rag': 'R', 'RollingPPM_text': '84', 'RollingPPM_rag': 'R', 'RollingPPM_trendInd': '-'})\n",
      "('45', {'sectorName': 'Lumo', 'total': '8', 'onTime': '7', 'late': '1', 'cancelVeryLate': '1', 'PPM_text': '87', 'PPM_rag': 'R', 'RollingPPM_text': '100', 'RollingPPM_rag': 'G', 'RollingPPM_trendInd': '+'})\n",
      "('23', {'sectorName': 'Northern Trains', 'total': '2365', 'onTime': '2077', 'late': '288', 'cancelVeryLate': '86', 'PPM_text': '87', 'PPM_rag': 'R', 'RollingPPM_text': '88', 'RollingPPM_rag': 'R', 'RollingPPM_trendInd': '+'})\n",
      "('71', {'sectorName': 'Transport for Wales', 'total': '910', 'onTime': '801', 'late': '109', 'cancelVeryLate': '30', 'PPM_text': '88', 'PPM_rag': 'R', 'RollingPPM_text': '87', 'RollingPPM_rag': 'R', 'RollingPPM_trendInd': '-'})\n",
      "('FLI', {'sectorName': 'Freightliner Intermodal', 'total': '40', 'onTime': '36', 'late': '4', 'cancelVeryLate': '0', 'PPM_text': '90', 'PPM_rag': 'G', 'RollingPPM_text': '87', 'RollingPPM_rag': 'G', 'RollingPPM_trendInd': '-'})\n",
      "('29', {'sectorName': 'West Midlands Trains', 'total': '1035', 'onTime': '938', 'late': '97', 'cancelVeryLate': '34', 'PPM_text': '90', 'PPM_rag': 'A', 'RollingPPM_text': '87', 'RollingPPM_rag': 'R', 'RollingPPM_trendInd': '-'})\n",
      "('25', {'sectorName': 'Great Western Railway', 'total': '1482', 'onTime': '1348', 'late': '134', 'cancelVeryLate': '40', 'PPM_text': '90', 'PPM_rag': 'A', 'RollingPPM_text': '90', 'RollingPPM_rag': 'A', 'RollingPPM_trendInd': '='})\n",
      "('65', {'sectorName': 'Avanti West Coast', 'total': '229', 'onTime': '211', 'late': '18', 'cancelVeryLate': '8', 'PPM_text': '92', 'PPM_rag': 'G', 'RollingPPM_text': '89', 'RollingPPM_rag': 'A', 'RollingPPM_trendInd': '-'})\n",
      "('55', {'sectorName': 'Hull Trains', 'total': '13', 'onTime': '12', 'late': '1', 'cancelVeryLate': '0', 'PPM_text': '92', 'PPM_rag': 'G', 'RollingPPM_text': '100', 'RollingPPM_rag': 'G', 'RollingPPM_trendInd': '+'})\n",
      "('64', {'sectorName': 'Merseyrail', 'total': '547', 'onTime': '505', 'late': '42', 'cancelVeryLate': '28', 'PPM_text': '92', 'PPM_rag': 'G', 'RollingPPM_text': '93', 'RollingPPM_rag': 'G', 'RollingPPM_trendInd': '+'})\n",
      "('42', {'sectorName': 'Colas Freight', 'total': '27', 'onTime': '25', 'late': '2', 'cancelVeryLate': '0', 'PPM_text': '92', 'PPM_rag': 'G', 'RollingPPM_text': '66', 'RollingPPM_rag': 'R', 'RollingPPM_trendInd': '-'})\n",
      "('05', {'sectorName': 'DB Cargo', 'total': '150', 'onTime': '139', 'late': '11', 'cancelVeryLate': '0', 'PPM_text': '92', 'PPM_rag': 'G', 'RollingPPM_text': '100', 'RollingPPM_rag': 'G', 'RollingPPM_trendInd': '+'})\n",
      "('80', {'sectorName': 'Southeastern', 'total': '1490', 'onTime': '1384', 'late': '106', 'cancelVeryLate': '12', 'PPM_text': '92', 'PPM_rag': 'G', 'RollingPPM_text': '88', 'RollingPPM_rag': 'R', 'RollingPPM_trendInd': '-'})\n",
      "('84', {'sectorName': 'South Western Railway', 'total': '1419', 'onTime': '1327', 'late': '92', 'cancelVeryLate': '5', 'PPM_text': '93', 'PPM_rag': 'G', 'RollingPPM_text': '91', 'RollingPPM_rag': 'A', 'RollingPPM_trendInd': '-'})\n",
      "('21', {'sectorName': 'Greater Anglia', 'total': '1095', 'onTime': '1031', 'late': '64', 'cancelVeryLate': '40', 'PPM_text': '94', 'PPM_rag': 'G', 'RollingPPM_text': '94', 'RollingPPM_rag': 'G', 'RollingPPM_trendInd': '='})\n",
      "('60', {'sectorName': 'ScotRail', 'total': '1958', 'onTime': '1844', 'late': '114', 'cancelVeryLate': '28', 'PPM_text': '94', 'PPM_rag': 'G', 'RollingPPM_text': '86', 'RollingPPM_rag': 'R', 'RollingPPM_trendInd': '-'})\n",
      "('28', {'sectorName': 'East Midlands Railway', 'total': '434', 'onTime': '412', 'late': '22', 'cancelVeryLate': '4', 'PPM_text': '94', 'PPM_rag': 'G', 'RollingPPM_text': '94', 'RollingPPM_rag': 'G', 'RollingPPM_trendInd': '='})\n",
      "('61', {'sectorName': 'London North Eastern Railway', 'total': '147', 'onTime': '141', 'late': '6', 'cancelVeryLate': '4', 'PPM_text': '95', 'PPM_rag': 'G', 'RollingPPM_text': '100', 'RollingPPM_rag': 'G', 'RollingPPM_trendInd': '+'})\n",
      "('79', {'sectorName': 'c2c', 'total': '292', 'onTime': '281', 'late': '11', 'cancelVeryLate': '0', 'PPM_text': '96', 'PPM_rag': 'G', 'RollingPPM_text': '92', 'RollingPPM_rag': 'G', 'RollingPPM_trendInd': '-'})\n",
      "('33', {'sectorName': 'Elizabeth line', 'total': '593', 'onTime': '573', 'late': '20', 'cancelVeryLate': '1', 'PPM_text': '96', 'PPM_rag': 'G', 'RollingPPM_text': '100', 'RollingPPM_rag': 'G', 'RollingPPM_trendInd': '+'})\n",
      "('86', {'sectorName': 'Heathrow Express', 'total': '137', 'onTime': '133', 'late': '4', 'cancelVeryLate': '0', 'PPM_text': '97', 'PPM_rag': 'G', 'RollingPPM_text': '100', 'RollingPPM_rag': 'G', 'RollingPPM_trendInd': '+'})\n",
      "('30', {'sectorName': 'London Overground', 'total': '1413', 'onTime': '1376', 'late': '37', 'cancelVeryLate': '8', 'PPM_text': '97', 'PPM_rag': 'G', 'RollingPPM_text': '97', 'RollingPPM_rag': 'G', 'RollingPPM_trendInd': '='})\n",
      "('74', {'sectorName': 'Chiltern', 'total': '310', 'onTime': '308', 'late': '2', 'cancelVeryLate': '0', 'PPM_text': '99', 'PPM_rag': 'G', 'RollingPPM_text': '100', 'RollingPPM_rag': 'G', 'RollingPPM_trendInd': '+'})\n",
      "('35', {'sectorName': 'Caledonian Sleeper', 'total': '6', 'onTime': '6', 'late': '0', 'cancelVeryLate': '0', 'PPM_text': '100', 'PPM_rag': 'G', 'RollingPPM_text': '-1', 'RollingPPM_rag': 'W', 'RollingPPM_trendInd': None})\n"
     ]
    }
   ],
   "source": [
    "for record in flatten_operator_page_performance.items():\n",
    "    print(record)"
   ]
  },
  {
   "cell_type": "code",
   "execution_count": 380,
   "metadata": {},
   "outputs": [],
   "source": [
    "operator_page_groups = data['RTPPMDataMsgV1']['RTPPMData']['OperatorPage']\n",
    "\n",
    "service_groups: list = []\n",
    "for operator_group in operator_page_groups:\n",
    "    if operator_group.get('OprServiceGrp'):\n",
    "        for service_group in operator_group['OprServiceGrp']:\n",
    "            # create a record from the service group dictionary\n",
    "            record = {}\n",
    "            try:\n",
    "                record['name'] = service_group['name']\n",
    "                record['Total'] = service_group['Total']\n",
    "                record['OnTime'] = service_group['OnTime']\n",
    "                record['Late'] = service_group['Late']\n",
    "                record['CancelVeryLate'] = service_group['CancelVeryLate']\n",
    "                record['PPM_text'] = service_group['PPM']['text']\n",
    "                record['PPM_rag'] = service_group['PPM']['rag']\n",
    "                record['RollingPPM_text'] = service_group['RollingPPM']['text']\n",
    "                record['RollingPPM_rag'] = service_group['RollingPPM']['rag']\n",
    "                record['RollingPPM_trendInd'] = service_group['RollingPPM'].get('trendInd')\n",
    "                service_groups.append(record)\n",
    "            except TypeError:\n",
    "                pass\n",
    "    else:\n",
    "        pass\n"
   ]
  }
 ],
 "metadata": {
  "kernelspec": {
   "display_name": "whisper_env",
   "language": "python",
   "name": "python3"
  },
  "language_info": {
   "codemirror_mode": {
    "name": "ipython",
    "version": 3
   },
   "file_extension": ".py",
   "mimetype": "text/x-python",
   "name": "python",
   "nbconvert_exporter": "python",
   "pygments_lexer": "ipython3",
   "version": "3.10.9"
  },
  "orig_nbformat": 4,
  "vscode": {
   "interpreter": {
    "hash": "33c3a7b4136e42d8aae62bdb5ebe4280ddd47aaa3a9145b1c5021e9d004c30c4"
   }
  }
 },
 "nbformat": 4,
 "nbformat_minor": 2
}
