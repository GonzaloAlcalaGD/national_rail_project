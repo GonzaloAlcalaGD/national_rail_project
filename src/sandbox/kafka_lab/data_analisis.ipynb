{
 "cells": [
  {
   "cell_type": "code",
   "execution_count": 1,
   "metadata": {},
   "outputs": [],
   "source": [
    "import json\n",
    "from datetime import datetime"
   ]
  },
  {
   "cell_type": "code",
   "execution_count": 2,
   "metadata": {},
   "outputs": [],
   "source": [
    "file_path: str = r'C:\\Users\\Gonzalo\\Desktop\\national_rail_project\\src\\sandbox\\stomp\\rtppm\\rtppm_data.json'"
   ]
  },
  {
   "cell_type": "code",
   "execution_count": 5,
   "metadata": {},
   "outputs": [],
   "source": [
    "with open(file_path) as f:\n",
    "    data = json.load(f)"
   ]
  },
  {
   "cell_type": "code",
   "execution_count": 8,
   "metadata": {},
   "outputs": [],
   "source": [
    "timestamp = int(data['timestamp'])\n"
   ]
  },
  {
   "cell_type": "markdown",
   "metadata": {},
   "source": [
    "## National performance\n",
    "\n",
    "- Total:\n",
    "The total number of trains considered in this performance report.\n",
    "\n",
    "- OnTime:\n",
    "The number of trains that arrived on time into their destinations.\n",
    "\n",
    "- Late:\n",
    "The number of trains that arrived late to their destinations.\n",
    "\n",
    "- CancelVeryLate:\n",
    "The number of trains that were cancelled or arrived very late.\n",
    "\n",
    "- PPM: <br>\n",
    "    The Public Performance Measure (PPM) is a measure of train punctuality that combines OnTime and Late trains.<br>\n",
    "    This dictionary contains the following keys:<br>\n",
    "    - text: The PPM percentage performance in string format.\n",
    "    - rag: The Rolling PPM performance category, one of the following (G, A, R, W)\n",
    "    - ragDisplayFlag: A flag to indicate if the performance category should be displayed or not.\n",
    "<br>\n",
    "<br>\n",
    "- RollingPPM: <br>\n",
    "    The Rolling Public Performance Measure (Rolling PPM) is a moving average of PPM over a certain period of time. <br>\n",
    "    This dictionary contains the following keys:\n",
    "    - text: The Rolling PPM percentage performance in string format.\n",
    "    - rag: The Rolling PPM performance category, one of the following (G, A, R, W)\n",
    "    - trendInd: A trend indicator, one of the following (+, = , -)\n",
    "<br>\n",
    "\n",
    "| rag | Performance category             | trendInd | Trend direction         |\n",
    "| --- | ---                              | ---      | ---                     |\n",
    "| G   | Good performance                 | `+`      | Rising trend            |\n",
    "| A   | Medium performance               | `=`      | No change/flat trend    |\n",
    "| R   | Bad performance                  | `-`      | Falling trend           |\n",
    "| W   | Unknown                          | N/A      | N/A                     |\n"
   ]
  },
  {
   "cell_type": "code",
   "execution_count": 30,
   "metadata": {},
   "outputs": [],
   "source": [
    "def flatten_national_dict(nested_dict: dict, parent_key='', sep='_') -> dict:\n",
    "    \"\"\" Recursively flattens a nested dictionary \n",
    "    with the following structure:\n",
    "    \n",
    "     example: dict =    \"NationalPPM\": {\n",
    "                            \"Total\": \"16652\",\n",
    "                            \"OnTime\": \"15235\",\n",
    "                            \"Late\": \"1417\",\n",
    "                            \"CancelVeryLate\": \"499\",\n",
    "                            \"PPM\": {\n",
    "                                \"text\": \"91\",\n",
    "                                \"rag\": \"A\",\n",
    "                                \"ragDisplayFlag\": \"Y\"\n",
    "                            },\n",
    "                            \"RollingPPM\": {\n",
    "                                \"text\": \"85\",\n",
    "                                \"rag\": \"R\",\n",
    "                                \"trendInd\": \"-\"\n",
    "                            }\n",
    "                        },\n",
    "    \"\"\"\n",
    "    items = []\n",
    "    for key, value in nested_dict.items():\n",
    "        new_key = f'{parent_key}{sep}{key}' if parent_key else key\n",
    "        if isinstance(value, dict):\n",
    "            items.extend(flatten_national_dict(value, new_key, sep=sep).items())\n",
    "        else:\n",
    "            items.append((new_key, value))\n",
    "    return dict(items)"
   ]
  },
  {
   "cell_type": "code",
   "execution_count": 31,
   "metadata": {},
   "outputs": [
    {
     "name": "stdout",
     "output_type": "stream",
     "text": [
      "{'Total': '16652', 'OnTime': '15235', 'Late': '1417', 'CancelVeryLate': '499', 'PPM_text': '91', 'PPM_rag': 'A', 'PPM_ragDisplayFlag': 'Y', 'RollingPPM_text': '85', 'RollingPPM_rag': 'R', 'RollingPPM_trendInd': '-'}\n"
     ]
    }
   ],
   "source": [
    "national_performance = data['RTPPMData']['NationalPage']['NationalPPM']\n",
    "flatten_national_perf = flatten_national_dict(national_performance)\n",
    "print(flatten_national_perf)"
   ]
  },
  {
   "cell_type": "markdown",
   "metadata": {},
   "source": [
    "## National sectors performance\n",
    "<br>\n",
    "A dictionary with keys representing different sectors. Each sector is a dictionary containing the following keys:\n",
    "<br>\n",
    "<br>\n",
    "\n",
    "- sectorName: A string representing the name of the sector. <br>\n",
    "\n",
    "- Total: The total number of trains in the sector <br>\n",
    "\n",
    "- OnTime: The number of trains that arrived on time to their destinations. <br> \n",
    "\n",
    "- Late: The number of trains that arrived late to their destinations. <br> \n",
    "\n",
    "- CancelVeryLate: The number of trains that were cancelled or arrived very late. <br> \n",
    "\n",
    "- PPM_text: The Public Performance Measure (PPM) percentage performance in string format. <br> \n",
    "\n",
    "- PPM_rag: The PPM performance category, one of G (Good performance), A (Medium performance), R (Bad performance), or W (Unknown). <br> \n",
    "\n",
    "- RollingPPM_text: The Rolling Public Performance Measure (Rolling PPM) percentage performance in string format. <br> \n",
    "\n",
    "- RollingPPM_rag: The Rolling PPM performance category, one of the following (G, A, R, W) <br> \n",
    "\n",
    "- RollingPPM_trendInd: A trend indicator, one of the following (+, = , -) <br>\n",
    "\n",
    "| rag | Performance category             | trendInd | Trend direction         |\n",
    "| --- | ---                              | ---      | ---                     |\n",
    "| G   | Good performance                 | `+`      | Rising trend            |\n",
    "| A   | Medium performance               | `=`      | No change/flat trend    |\n",
    "| R   | Bad performance                  | `-`      | Falling trend           |\n",
    "| W   | Unknown                          | N/A      | N/A                     |\n"
   ]
  },
  {
   "cell_type": "code",
   "execution_count": 36,
   "metadata": {},
   "outputs": [],
   "source": [
    "def flatten_national_sectors(nested_dict: list, parent_key='', sep='_') -> dict:\n",
    "    \"\"\"Iterates over a list of dictionaries and flattens them into a dict of dicts \n",
    "    \n",
    "    example: dict =  \"Sector\": [\n",
    "                            {\n",
    "                                \"SectorPPM\": {\n",
    "                                    \"Total\": \"8880\",\n",
    "                                    \"OnTime\": \"8202\",\n",
    "                                    \"Late\": \"678\",\n",
    "                                    \"CancelVeryLate\": \"228\",\n",
    "                                    \"PPM\": {\n",
    "                                        \"text\": \"92\",\n",
    "                                        \"rag\": \"G\"\n",
    "                                    },\n",
    "                                    \"RollingPPM\": {\n",
    "                                        \"text\": \"84\",\n",
    "                                        \"rag\": \"R\",\n",
    "                                        \"trendInd\": \"-\"\n",
    "                                    }\n",
    "                                },\n",
    "                                \"sectorCode\": \"LSE\",\n",
    "                                \"sectorDesc\": \"London and South East\"\n",
    "                            }]\n",
    "    \"\"\"\n",
    "    new_data = {}\n",
    "    # Traverse over the dicts inside the list\n",
    "    for sector in nested_dict:\n",
    "        # Create dict's from sector code and insert name\n",
    "        new_data[sector[\"sectorCode\"]] = {\"sectorName\": sector[\"sectorDesc\"]} \n",
    "        # Traverse over the nested dict's inside SectorPPM\n",
    "        for key, value in sector[\"SectorPPM\"].items(): \n",
    "            # Explode the nested dicts and add their keys as part of the new key names\n",
    "            if key == \"PPM\":\n",
    "                new_data[sector[\"sectorCode\"]][\"PPM_text\"] = value[\"text\"]\n",
    "                new_data[sector[\"sectorCode\"]][\"PPM_rag\"] = value[\"rag\"]\n",
    "            elif key == \"RollingPPM\":\n",
    "                new_data[sector[\"sectorCode\"]][\"RollingPPM_text\"] = value[\"text\"]\n",
    "                new_data[sector[\"sectorCode\"]][\"RollingPPM_rag\"] = value[\"rag\"]\n",
    "                new_data[sector[\"sectorCode\"]][\"RollingPPM_trendInd\"] = value[\"trendInd\"]\n",
    "            else:\n",
    "                # Insert data that isn't nested\n",
    "                new_data[sector[\"sectorCode\"]][key] = value\n",
    "    return new_data\n",
    "    return new_data\n"
   ]
  },
  {
   "cell_type": "code",
   "execution_count": 37,
   "metadata": {},
   "outputs": [
    {
     "name": "stdout",
     "output_type": "stream",
     "text": [
      "{'LSE': {'sectorName': 'London and South East', 'Total': '8880', 'OnTime': '8202', 'Late': '678', 'CancelVeryLate': '228', 'PPM_text': '92', 'PPM_rag': 'G', 'RollingPPM_text': '84', 'RollingPPM_rag': 'R', 'RollingPPM_trendInd': '-'}, 'LD': {'sectorName': 'Long Distance', 'Total': '1166', 'OnTime': '1045', 'Late': '121', 'CancelVeryLate': '65', 'PPM_text': '89', 'PPM_rag': 'A', 'RollingPPM_text': '89', 'RollingPPM_rag': 'A', 'RollingPPM_trendInd': '='}, 'REG': {'sectorName': 'Regional', 'Total': '4809', 'OnTime': '4283', 'Late': '526', 'CancelVeryLate': '184', 'PPM_text': '89', 'PPM_rag': 'A', 'RollingPPM_text': '84', 'RollingPPM_rag': 'R', 'RollingPPM_trendInd': '-'}, 'SCO': {'sectorName': 'Scotland', 'Total': '1797', 'OnTime': '1705', 'Late': '92', 'CancelVeryLate': '22', 'PPM_text': '94', 'PPM_rag': 'G', 'RollingPPM_text': '91', 'RollingPPM_rag': 'A', 'RollingPPM_trendInd': '-'}}\n"
     ]
    }
   ],
   "source": [
    "national_sectors_page = data['RTPPMData']['NationalPage']['Sector']\n",
    "flatten_national_sectors_perf = flatten_national_sectors(national_sectors_page)\n",
    "print(flatten_national_sectors_perf)"
   ]
  },
  {
   "attachments": {},
   "cell_type": "markdown",
   "metadata": {},
   "source": [
    "## National Operator performance\n",
    "\n",
    "- Total: The total number of trains in the sector. <br>\n",
    "- PPM: A dictionary with keys 'text' and 'rag', representing the Public Performance Measure percentage and performance category, respectively. <br>\n",
    "- RollingPPM: A dictionary with keys 'text', 'rag', 'displayFlag', and 'trendInd', representing the Rolling Public Performance Measure percentage, performance category, display flag, and trend indicator, respectively. <br>\n",
    "- code: A code representing the sector. <br>\n",
    "- name: The name of the sector. <br>\n",
    "- keySymbol: An optional key symbol for the sector. <br>\n",
    "\n",
    "| rag | Performance category             | trendInd | Trend direction         |\n",
    "| --- | ---                              | ---      | ---                     |\n",
    "| G   | Good performance                 | `+`      | Rising trend            |\n",
    "| A   | Medium performance               | `=`      | No change/flat trend    |\n",
    "| R   | Bad performance                  | `-`      | Falling trend           |\n",
    "| W   | Unknown                          | N/A      | N/A                     |"
   ]
  },
  {
   "cell_type": "code",
   "execution_count": 80,
   "metadata": {},
   "outputs": [],
   "source": [
    "def flatten_national_operator(nested_dict: list) -> dict:\n",
    "    \"\"\"Iterates over a list of nested dictionaries and flattens them into a dict of dicts.\n",
    "    example: dict = \"Operator\": [\n",
    "                        {\n",
    "                            \"Total\": \"6\",\n",
    "                            \"PPM\": {\n",
    "                                \"text\": \"100\",\n",
    "                                \"rag\": \"G\"\n",
    "                            },\n",
    "                            \"RollingPPM\": {\n",
    "                                \"text\": \"-1\",\n",
    "                                \"rag\": \"W\",\n",
    "                                \"displayFlag\": \"Y\"\n",
    "                            },\n",
    "                            \"code\": \"35\",\n",
    "                            \"name\": \"Caledonian Sleeper\",\n",
    "                            \"keySymbol\": \"*\"\n",
    "                        }]\n",
    "    \"\"\"\n",
    "    new_data = {}\n",
    "    for record in nested_dict:\n",
    "        # Create a dictionary to store the flattened record\n",
    "        flat_record = {}\n",
    "        # Add all key-value pairs to flat_record\n",
    "        for key, value in record.items():\n",
    "            if isinstance(value, dict):\n",
    "                # Add PPM_text and PPM_rag keys for PPM dictionary\n",
    "                if key == 'PPM':\n",
    "                    flat_record['PPM_text'] = value['text']\n",
    "                    flat_record['PPM_rag'] = value['rag']\n",
    "                # Add RollingPPM_text, RollingPPM_rag, and RollingPPM_trendInd keys for RollingPPM dictionary\n",
    "                elif key == 'RollingPPM':\n",
    "                    flat_record['RollingPPM_text'] = value['text']\n",
    "                    flat_record['RollingPPM_rag'] = value['rag']\n",
    "                    flat_record['RollingPPM_trendInd'] = value.get('trendInd')\n",
    "            elif key != 'code' and key != 'keySymbol':\n",
    "                # Add the key-value pair directly to flat_record\n",
    "                flat_record[key] = value\n",
    "        # Add the flattened record to new_data using code as the key\n",
    "        new_data[record['code']] = flat_record\n",
    "\n",
    "    return new_data\n"
   ]
  },
  {
   "cell_type": "code",
   "execution_count": 81,
   "metadata": {},
   "outputs": [],
   "source": [
    "national_operator = data['RTPPMData']['NationalPage']['Operator']\n",
    "flatten_national_operator_perf = flatten_national_operator(national_operator)"
   ]
  },
  {
   "cell_type": "code",
   "execution_count": 86,
   "metadata": {},
   "outputs": [
    {
     "name": "stdout",
     "output_type": "stream",
     "text": [
      "('35', {'Total': '6', 'PPM_text': '100', 'PPM_rag': 'G', 'RollingPPM_text': '-1', 'RollingPPM_rag': 'W', 'RollingPPM_trendInd': None, 'name': 'Caledonian Sleeper'})\n",
      "('74', {'Total': '281', 'PPM_text': '99', 'PPM_rag': 'G', 'RollingPPM_text': '97', 'RollingPPM_rag': 'G', 'RollingPPM_trendInd': '-', 'name': 'Chiltern'})\n",
      "('30', {'Total': '1243', 'PPM_text': '97', 'PPM_rag': 'G', 'RollingPPM_text': '96', 'RollingPPM_rag': 'G', 'RollingPPM_trendInd': '-', 'name': 'London Overground'})\n",
      "('33', {'Total': '527', 'PPM_text': '96', 'PPM_rag': 'G', 'RollingPPM_text': '85', 'RollingPPM_rag': 'R', 'RollingPPM_trendInd': '-', 'name': 'Elizabeth line'})\n",
      "('79', {'Total': '267', 'PPM_text': '96', 'PPM_rag': 'G', 'RollingPPM_text': '97', 'RollingPPM_rag': 'G', 'RollingPPM_trendInd': '+', 'name': 'c2c'})\n",
      "('61', {'Total': '123', 'PPM_text': '95', 'PPM_rag': 'G', 'RollingPPM_text': '94', 'RollingPPM_rag': 'G', 'RollingPPM_trendInd': '-', 'name': 'London North Eastern Railway'})\n",
      "('28', {'Total': '381', 'PPM_text': '94', 'PPM_rag': 'G', 'RollingPPM_text': '90', 'RollingPPM_rag': 'A', 'RollingPPM_trendInd': '-', 'name': 'East Midlands Railway'})\n",
      "('21', {'Total': '968', 'PPM_text': '94', 'PPM_rag': 'G', 'RollingPPM_text': '94', 'RollingPPM_rag': 'G', 'RollingPPM_trendInd': '=', 'name': 'Greater Anglia'})\n",
      "('60', {'Total': '1791', 'PPM_text': '94', 'PPM_rag': 'G', 'RollingPPM_text': '91', 'RollingPPM_rag': 'A', 'RollingPPM_trendInd': '-', 'name': 'ScotRail'})\n",
      "('84', {'Total': '1258', 'PPM_text': '93', 'PPM_rag': 'G', 'RollingPPM_text': '86', 'RollingPPM_rag': 'R', 'RollingPPM_trendInd': '-', 'name': 'South Western Railway'})\n",
      "('80', {'Total': '1331', 'PPM_text': '93', 'PPM_rag': 'G', 'RollingPPM_text': '88', 'RollingPPM_rag': 'R', 'RollingPPM_trendInd': '-', 'name': 'Southeastern'})\n",
      "('65', {'Total': '201', 'PPM_text': '92', 'PPM_rag': 'G', 'RollingPPM_text': '83', 'RollingPPM_rag': 'R', 'RollingPPM_trendInd': '-', 'name': 'Avanti West Coast'})\n",
      "('64', {'Total': '500', 'PPM_text': '92', 'PPM_rag': 'G', 'RollingPPM_text': '98', 'RollingPPM_rag': 'G', 'RollingPPM_trendInd': '+', 'name': 'Merseyrail'})\n",
      "('25', {'Total': '1306', 'PPM_text': '91', 'PPM_rag': 'A', 'RollingPPM_text': '87', 'RollingPPM_rag': 'R', 'RollingPPM_trendInd': '-', 'name': 'Great Western Railway'})\n",
      "('29', {'Total': '931', 'PPM_text': '91', 'PPM_rag': 'A', 'RollingPPM_text': '86', 'RollingPPM_rag': 'R', 'RollingPPM_trendInd': '-', 'name': 'West Midlands Trains'})\n",
      "('71', {'Total': '816', 'PPM_text': '88', 'PPM_rag': 'R', 'RollingPPM_text': '91', 'RollingPPM_rag': 'A', 'RollingPPM_trendInd': '+', 'name': 'Transport for Wales'})\n",
      "('23', {'Total': '2096', 'PPM_text': '87', 'PPM_rag': 'R', 'RollingPPM_text': '77', 'RollingPPM_rag': 'R', 'RollingPPM_trendInd': '-', 'name': 'Northern Trains'})\n",
      "('20', {'Total': '211', 'PPM_text': '85', 'PPM_rag': 'R', 'RollingPPM_text': '93', 'RollingPPM_rag': 'G', 'RollingPPM_trendInd': '+', 'name': 'TransPennine Express'})\n",
      "('88', {'Total': '2236', 'PPM_text': '84', 'PPM_rag': 'R', 'RollingPPM_text': '67', 'RollingPPM_rag': 'R', 'RollingPPM_trendInd': '-', 'name': 'Govia Thameslink Railway'})\n",
      "('27', {'Total': '179', 'PPM_text': '78', 'PPM_rag': 'R', 'RollingPPM_text': '83', 'RollingPPM_rag': 'R', 'RollingPPM_trendInd': '+', 'name': 'CrossCountry'})\n"
     ]
    }
   ],
   "source": [
    "for record in flatten_national_operator_perf.items():\n",
    "    print(record)"
   ]
  },
  {
   "cell_type": "code",
   "execution_count": null,
   "metadata": {},
   "outputs": [],
   "source": []
  }
 ],
 "metadata": {
  "kernelspec": {
   "display_name": "whisper_env",
   "language": "python",
   "name": "python3"
  },
  "language_info": {
   "codemirror_mode": {
    "name": "ipython",
    "version": 3
   },
   "file_extension": ".py",
   "mimetype": "text/x-python",
   "name": "python",
   "nbconvert_exporter": "python",
   "pygments_lexer": "ipython3",
   "version": "3.10.9"
  },
  "orig_nbformat": 4,
  "vscode": {
   "interpreter": {
    "hash": "33c3a7b4136e42d8aae62bdb5ebe4280ddd47aaa3a9145b1c5021e9d004c30c4"
   }
  }
 },
 "nbformat": 4,
 "nbformat_minor": 2
}
