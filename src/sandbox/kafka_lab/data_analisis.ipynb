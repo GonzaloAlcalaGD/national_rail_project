{
 "cells": [
  {
   "cell_type": "code",
   "execution_count": 1,
   "metadata": {},
   "outputs": [],
   "source": [
    "import json\n",
    "from datetime import datetime"
   ]
  },
  {
   "cell_type": "code",
   "execution_count": 2,
   "metadata": {},
   "outputs": [],
   "source": [
    "file_path: str = r'/Users/gonzo/Desktop/RailScope/national_rail_project/src/sandbox/stomp/rtppm/rtppm_data.json'"
   ]
  },
  {
   "cell_type": "code",
   "execution_count": 3,
   "metadata": {},
   "outputs": [],
   "source": [
    "with open(file_path) as f:\n",
    "    data = json.load(f)"
   ]
  },
  {
   "cell_type": "code",
   "execution_count": 4,
   "metadata": {},
   "outputs": [],
   "source": [
    "timestamp = int(data['RTPPMDataMsgV1']['timestamp'])\n",
    "national_performance = data['RTPPMDataMsgV1']['RTPPMData']['NationalPage']['NationalPPM']\n",
    "national_sectors_page = data['RTPPMDataMsgV1']['RTPPMData']['NationalPage']['Sector']"
   ]
  },
  {
   "cell_type": "markdown",
   "metadata": {},
   "source": [
    "## National performance\n",
    "\n",
    "- Total:\n",
    "The total number of trains considered in this performance report.\n",
    "\n",
    "- OnTime:\n",
    "The number of trains that arrived on time into their destinations.\n",
    "\n",
    "- Late:\n",
    "The number of trains that arrived late to their destinations.\n",
    "\n",
    "- CancelVeryLate:\n",
    "The number of trains that were cancelled or arrived very late.\n",
    "\n",
    "- PPM: <br>\n",
    "    The Public Performance Measure (PPM) is a measure of train punctuality that combines OnTime and Late trains.<br>\n",
    "    This dictionary contains the following keys:<br>\n",
    "    - text: The PPM percentage performance in string format.\n",
    "    - rag: The Rolling PPM performance category, one of the following (G, A, R, W)\n",
    "    - ragDisplayFlag: A flag to indicate if the performance category should be displayed or not.\n",
    "<br>\n",
    "<br>\n",
    "- RollingPPM: <br>\n",
    "    The Rolling Public Performance Measure (Rolling PPM) is a moving average of PPM over a certain period of time. <br>\n",
    "    This dictionary contains the following keys:\n",
    "    - text: The Rolling PPM percentage performance in string format.\n",
    "    - rag: The Rolling PPM performance category, one of the following (G, A, R, W)\n",
    "    - trendInd: A trend indicator, one of the following (+, = , -)\n",
    "<br>\n",
    "\n",
    "| rag | Performance category             | trendInd | Trend direction         |\n",
    "| --- | ---                              | ---      | ---                     |\n",
    "| G   | Good performance                 | `+`      | Rising trend            |\n",
    "| A   | Medium performance               | `=`      | No change/flat trend    |\n",
    "| R   | Bad performance                  | `-`      | Falling trend           |\n",
    "| W   | Unknown                          | N/A      | N/A                     |\n"
   ]
  },
  {
   "cell_type": "code",
   "execution_count": 32,
   "metadata": {},
   "outputs": [],
   "source": [
    "def flatten_national_dict(nested_dict: dict, parent_key='', sep='_') -> dict:\n",
    "    \"\"\" Recursively flattens a nested dictionary\"\"\"\n",
    "    items = []\n",
    "    for key, value in nested_dict.items():\n",
    "        new_key = f'{parent_key}{sep}{key}' if parent_key else key\n",
    "        if isinstance(value, dict):\n",
    "            items.extend(flatten_national_dict(value, new_key, sep=sep).items())\n",
    "        else:\n",
    "            items.append((new_key, value))\n",
    "    return dict(items)"
   ]
  },
  {
   "cell_type": "code",
   "execution_count": 34,
   "metadata": {},
   "outputs": [
    {
     "name": "stdout",
     "output_type": "stream",
     "text": [
      "{'Total': '18661', 'OnTime': '17010', 'Late': '1651', 'CancelVeryLate': '566', 'PPM_text': '91', 'PPM_rag': 'A', 'PPM_ragDisplayFlag': 'Y', 'RollingPPM_text': '88', 'RollingPPM_rag': 'R', 'RollingPPM_trendInd': '-'}\n"
     ]
    }
   ],
   "source": [
    "flatten_national_perf = flatten_national_dict(national_performance)\n",
    "print(flatten_national_perf)"
   ]
  },
  {
   "cell_type": "markdown",
   "metadata": {},
   "source": [
    "## National sectors performance\n",
    "<br>\n",
    "A dictionary with keys representing different sectors. Each sector is a dictionary containing the following keys:\n",
    "<br>\n",
    "<br>\n",
    "\n",
    "- sectorName: A string representing the name of the sector. <br>\n",
    "\n",
    "- Total: The total number of trains in the sector <br>\n",
    "\n",
    "- OnTime: The number of trains that arrived on time to their destinations. <br> \n",
    "\n",
    "- Late: The number of trains that arrived late to their destinations. <br> \n",
    "\n",
    "- CancelVeryLate: The number of trains that were cancelled or arrived very late. <br> \n",
    "\n",
    "- PPM_text: The Public Performance Measure (PPM) percentage performance in string format. <br> \n",
    "\n",
    "- PPM_rag: The PPM performance category, one of G (Good performance), A (Medium performance), R (Bad performance), or W (Unknown). <br> \n",
    "\n",
    "- RollingPPM_text: The Rolling Public Performance Measure (Rolling PPM) percentage performance in string format. <br> \n",
    "\n",
    "- RollingPPM_rag: The Rolling PPM performance category, one of the following (G, A, R, W) <br> \n",
    "\n",
    "- RollingPPM_trendInd: A trend indicator, one of the following (+, = , -) <br>\n",
    "\n",
    "| rag | Performance category             | trendInd | Trend direction         |\n",
    "| --- | ---                              | ---      | ---                     |\n",
    "| G   | Good performance                 | `+`      | Rising trend            |\n",
    "| A   | Medium performance               | `=`      | No change/flat trend    |\n",
    "| R   | Bad performance                  | `-`      | Falling trend           |\n",
    "| W   | Unknown                          | N/A      | N/A                     |\n"
   ]
  },
  {
   "cell_type": "code",
   "execution_count": 28,
   "metadata": {},
   "outputs": [],
   "source": [
    "def flatten_national_sectors(nested_dict: list) -> dict:\n",
    "    new_data = {}\n",
    "    # Traverse over the dicts inside the list\n",
    "    for sector in nested_dict:\n",
    "        # Create dict's from sector code and insert name\n",
    "        new_data[sector[\"sectorCode\"]] = {\"sectorName\": sector[\"sectorDesc\"]} \n",
    "        # Traverse over the nested dict's inside SectorPPM\n",
    "        for key, value in sector[\"SectorPPM\"].items(): \n",
    "            # Explode the nested dicts and add their keys as part of the new key names\n",
    "            if key == \"PPM\":\n",
    "                new_data[sector[\"sectorCode\"]][\"PPM_text\"] = value[\"text\"]\n",
    "                new_data[sector[\"sectorCode\"]][\"PPM_rag\"] = value[\"rag\"]\n",
    "            elif key == \"RollingPPM\":\n",
    "                new_data[sector[\"sectorCode\"]][\"RollingPPM_text\"] = value[\"text\"]\n",
    "                new_data[sector[\"sectorCode\"]][\"RollingPPM_rag\"] = value[\"rag\"]\n",
    "                new_data[sector[\"sectorCode\"]][\"RollingPPM_trendInd\"] = value[\"trendInd\"]\n",
    "            else:\n",
    "                # Insert data that isn't nested\n",
    "                new_data[sector[\"sectorCode\"]][key] = value\n",
    "                \n",
    "    return new_data\n"
   ]
  },
  {
   "cell_type": "code",
   "execution_count": 35,
   "metadata": {},
   "outputs": [
    {
     "name": "stdout",
     "output_type": "stream",
     "text": [
      "{'LSE': {'sectorName': 'London and South East', 'Total': '9973', 'OnTime': '9170', 'Late': '803', 'CancelVeryLate': '270', 'PPM_text': '91', 'PPM_rag': 'A', 'RollingPPM_text': '88', 'RollingPPM_rag': 'R', 'RollingPPM_trendInd': '-'}, 'LD': {'sectorName': 'Long Distance', 'Total': '1331', 'OnTime': '1194', 'Late': '137', 'CancelVeryLate': '70', 'PPM_text': '89', 'PPM_rag': 'A', 'RollingPPM_text': '90', 'RollingPPM_rag': 'A', 'RollingPPM_trendInd': '+'}, 'REG': {'sectorName': 'Regional', 'Total': '5393', 'OnTime': '4796', 'Late': '597', 'CancelVeryLate': '198', 'PPM_text': '88', 'PPM_rag': 'R', 'RollingPPM_text': '87', 'RollingPPM_rag': 'R', 'RollingPPM_trendInd': '-'}, 'SCO': {'sectorName': 'Scotland', 'Total': '1964', 'OnTime': '1850', 'Late': '114', 'CancelVeryLate': '28', 'PPM_text': '94', 'PPM_rag': 'G', 'RollingPPM_text': '86', 'RollingPPM_rag': 'R', 'RollingPPM_trendInd': '-'}}\n"
     ]
    }
   ],
   "source": [
    "flatten_national_sectors_perf = flatten_national_sectors(national_sectors_page)\n",
    "print(flatten_national_sectors_perf)"
   ]
  },
  {
   "cell_type": "code",
   "execution_count": null,
   "metadata": {},
   "outputs": [],
   "source": []
  }
 ],
 "metadata": {
  "kernelspec": {
   "display_name": "Python 3.10.9 ('de_bootcamp')",
   "language": "python",
   "name": "python3"
  },
  "language_info": {
   "codemirror_mode": {
    "name": "ipython",
    "version": 3
   },
   "file_extension": ".py",
   "mimetype": "text/x-python",
   "name": "python",
   "nbconvert_exporter": "python",
   "pygments_lexer": "ipython3",
   "version": "3.10.9"
  },
  "orig_nbformat": 4,
  "vscode": {
   "interpreter": {
    "hash": "5295e6fbeb59d9ed9031789afe839f3661dcf78fad112bb64cb8f4b35700c78b"
   }
  }
 },
 "nbformat": 4,
 "nbformat_minor": 2
}
